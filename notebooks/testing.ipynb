{
 "cells": [
  {
   "cell_type": "code",
   "execution_count": 32,
   "metadata": {},
   "outputs": [],
   "source": [
    "import sys, os\n",
    "import pandas as pd\n",
    "from src.utils import *"
   ]
  },
  {
   "cell_type": "code",
   "execution_count": 33,
   "metadata": {},
   "outputs": [
    {
     "data": {
      "text/plain": [
       "['/Users/goldyrana/miniconda3/envs/credit/lib/python3.8/site-packages/ipykernel_launcher.py',\n",
       " '--f=/Users/goldyrana/Library/Jupyter/runtime/kernel-v2-908rfEYEiblSVbB.json']"
      ]
     },
     "execution_count": 33,
     "metadata": {},
     "output_type": "execute_result"
    }
   ],
   "source": [
    "sys.argv"
   ]
  },
  {
   "cell_type": "code",
   "execution_count": 34,
   "metadata": {},
   "outputs": [],
   "source": [
    "joined_data = pd.read_csv(\"/Users/goldyrana/work/ATU/Sem1/predictive/t_project1/credit_card_approval_prediction/data/interim/joined_data.csv\")"
   ]
  },
  {
   "cell_type": "code",
   "execution_count": 16,
   "metadata": {},
   "outputs": [
    {
     "data": {
      "text/plain": [
       "id                          0\n",
       "code_gender                 0\n",
       "flag_own_car                0\n",
       "flag_own_realty             0\n",
       "cnt_children                0\n",
       "amt_income_total            0\n",
       "name_income_type            0\n",
       "name_education_type         0\n",
       "name_family_status          0\n",
       "name_housing_type           0\n",
       "days_birth                  0\n",
       "days_employed               0\n",
       "flag_mobil                  0\n",
       "flag_work_phone             0\n",
       "flag_phone                  0\n",
       "flag_email                  0\n",
       "occupation_type        134203\n",
       "cnt_fam_members             0\n",
       "status                 402100\n",
       "dtype: int64"
      ]
     },
     "execution_count": 16,
     "metadata": {},
     "output_type": "execute_result"
    }
   ],
   "source": [
    "joined_data.isnull().sum()  "
   ]
  },
  {
   "cell_type": "code",
   "execution_count": 17,
   "metadata": {},
   "outputs": [
    {
     "data": {
      "text/plain": [
       "(438557, 19)"
      ]
     },
     "execution_count": 17,
     "metadata": {},
     "output_type": "execute_result"
    }
   ],
   "source": [
    "joined_data.shape"
   ]
  },
  {
   "cell_type": "code",
   "execution_count": 35,
   "metadata": {},
   "outputs": [
    {
     "data": {
      "text/plain": [
       "flag_own_realty             0\n",
       "cnt_children                0\n",
       "amt_income_total            0\n",
       "name_income_type            0\n",
       "name_education_type         0\n",
       "days_birth                  0\n",
       "days_employed               0\n",
       "occupation_type        122880\n",
       "cnt_fam_members             0\n",
       "status                 402100\n",
       "dtype: int64"
      ]
     },
     "execution_count": 35,
     "metadata": {},
     "output_type": "execute_result"
    }
   ],
   "source": [
    "null = pd.read_csv(\"/Users/goldyrana/work/ATU/Sem1/predictive/t_project1/credit_card_approval_prediction/data/interim/null_data.csv\")\n",
    "null.isnull().sum()"
   ]
  },
  {
   "cell_type": "code",
   "execution_count": 36,
   "metadata": {},
   "outputs": [],
   "source": [
    "nn = pd.read_csv(\"/Users/goldyrana/work/ATU/Sem1/predictive/t_project1/credit_card_approval_prediction/data/interim/not_null.csv\")"
   ]
  },
  {
   "cell_type": "code",
   "execution_count": 37,
   "metadata": {},
   "outputs": [
    {
     "data": {
      "text/html": [
       "<div>\n",
       "<style scoped>\n",
       "    .dataframe tbody tr th:only-of-type {\n",
       "        vertical-align: middle;\n",
       "    }\n",
       "\n",
       "    .dataframe tbody tr th {\n",
       "        vertical-align: top;\n",
       "    }\n",
       "\n",
       "    .dataframe thead th {\n",
       "        text-align: right;\n",
       "    }\n",
       "</style>\n",
       "<table border=\"1\" class=\"dataframe\">\n",
       "  <thead>\n",
       "    <tr style=\"text-align: right;\">\n",
       "      <th></th>\n",
       "      <th>flag_own_realty</th>\n",
       "      <th>cnt_children</th>\n",
       "      <th>amt_income_total</th>\n",
       "      <th>name_income_type</th>\n",
       "      <th>name_education_type</th>\n",
       "      <th>days_birth</th>\n",
       "      <th>days_employed</th>\n",
       "      <th>occupation_type</th>\n",
       "      <th>cnt_fam_members</th>\n",
       "      <th>status</th>\n",
       "    </tr>\n",
       "  </thead>\n",
       "  <tbody>\n",
       "    <tr>\n",
       "      <th>0</th>\n",
       "      <td>Y</td>\n",
       "      <td>0</td>\n",
       "      <td>427500.0</td>\n",
       "      <td>Working</td>\n",
       "      <td>Higher education</td>\n",
       "      <td>32.89</td>\n",
       "      <td>12.44</td>\n",
       "      <td>NaN</td>\n",
       "      <td>2.0</td>\n",
       "      <td>0.0</td>\n",
       "    </tr>\n",
       "    <tr>\n",
       "      <th>1</th>\n",
       "      <td>Y</td>\n",
       "      <td>0</td>\n",
       "      <td>427500.0</td>\n",
       "      <td>Working</td>\n",
       "      <td>Higher education</td>\n",
       "      <td>32.89</td>\n",
       "      <td>12.44</td>\n",
       "      <td>NaN</td>\n",
       "      <td>2.0</td>\n",
       "      <td>0.0</td>\n",
       "    </tr>\n",
       "    <tr>\n",
       "      <th>2</th>\n",
       "      <td>Y</td>\n",
       "      <td>0</td>\n",
       "      <td>112500.0</td>\n",
       "      <td>Working</td>\n",
       "      <td>Secondary / secondary special</td>\n",
       "      <td>58.83</td>\n",
       "      <td>3.11</td>\n",
       "      <td>Security staff</td>\n",
       "      <td>2.0</td>\n",
       "      <td>0.0</td>\n",
       "    </tr>\n",
       "    <tr>\n",
       "      <th>3</th>\n",
       "      <td>Y</td>\n",
       "      <td>0</td>\n",
       "      <td>270000.0</td>\n",
       "      <td>Commercial associate</td>\n",
       "      <td>Secondary / secondary special</td>\n",
       "      <td>52.36</td>\n",
       "      <td>8.36</td>\n",
       "      <td>Sales staff</td>\n",
       "      <td>1.0</td>\n",
       "      <td>1.0</td>\n",
       "    </tr>\n",
       "    <tr>\n",
       "      <th>4</th>\n",
       "      <td>Y</td>\n",
       "      <td>0</td>\n",
       "      <td>270000.0</td>\n",
       "      <td>Commercial associate</td>\n",
       "      <td>Secondary / secondary special</td>\n",
       "      <td>52.36</td>\n",
       "      <td>8.36</td>\n",
       "      <td>Sales staff</td>\n",
       "      <td>1.0</td>\n",
       "      <td>0.0</td>\n",
       "    </tr>\n",
       "  </tbody>\n",
       "</table>\n",
       "</div>"
      ],
      "text/plain": [
       "  flag_own_realty  cnt_children  amt_income_total      name_income_type  \\\n",
       "0               Y             0          427500.0               Working   \n",
       "1               Y             0          427500.0               Working   \n",
       "2               Y             0          112500.0               Working   \n",
       "3               Y             0          270000.0  Commercial associate   \n",
       "4               Y             0          270000.0  Commercial associate   \n",
       "\n",
       "             name_education_type  days_birth  days_employed occupation_type  \\\n",
       "0               Higher education       32.89          12.44             NaN   \n",
       "1               Higher education       32.89          12.44             NaN   \n",
       "2  Secondary / secondary special       58.83           3.11  Security staff   \n",
       "3  Secondary / secondary special       52.36           8.36     Sales staff   \n",
       "4  Secondary / secondary special       52.36           8.36     Sales staff   \n",
       "\n",
       "   cnt_fam_members  status  \n",
       "0              2.0     0.0  \n",
       "1              2.0     0.0  \n",
       "2              2.0     0.0  \n",
       "3              1.0     1.0  \n",
       "4              1.0     0.0  "
      ]
     },
     "execution_count": 37,
     "metadata": {},
     "output_type": "execute_result"
    }
   ],
   "source": [
    "nn.head()"
   ]
  },
  {
   "cell_type": "code",
   "execution_count": 39,
   "metadata": {},
   "outputs": [],
   "source": [
    "from sklearn.preprocessing import LabelEncoder  \n",
    "\n",
    "le = LabelEncoder()\n",
    "fitted_e = {}\n",
    "\n",
    "columns = ['flag_own_realty',\n",
    "       'name_income_type', 'name_education_type',\n",
    "        'occupation_type']\n",
    "for col in columns:\n",
    "    fitted_e.update({col: le.fit(nn[col])})\n",
    "    "
   ]
  },
  {
   "cell_type": "code",
   "execution_count": 40,
   "metadata": {},
   "outputs": [
    {
     "data": {
      "text/plain": [
       "{'flag_own_realty': LabelEncoder(),\n",
       " 'name_income_type': LabelEncoder(),\n",
       " 'name_education_type': LabelEncoder(),\n",
       " 'occupation_type': LabelEncoder()}"
      ]
     },
     "execution_count": 40,
     "metadata": {},
     "output_type": "execute_result"
    }
   ],
   "source": [
    "fitted_e"
   ]
  },
  {
   "cell_type": "code",
   "execution_count": null,
   "metadata": {},
   "outputs": [],
   "source": [
    "for col in fitted_e.keys():\n",
    "    null[col] = fitted_e[col].transform(null[col])\n",
    "    "
   ]
  },
  {
   "cell_type": "code",
   "execution_count": 49,
   "metadata": {},
   "outputs": [],
   "source": [
    "class custome_label_encoder(LabelEncoder):\n",
    "    def __init__(self,handle_unkown = True):\n",
    "        super().__init__()\n",
    "        self.handle_unkown = handle_unkown\n",
    "        \n",
    "    def fit(self, y):\n",
    "        super().fit(y)\n",
    "        return self\n",
    "    \n",
    "    def handle_error(self):\n",
    "        pass\n",
    "    \n",
    "    def transform(self, y):\n",
    "        classes = y.unique()\n",
    "        if classes not in self.classes_:\n",
    "            print(f\"class {classes} not found\")\n",
    "            \n",
    "f = custome_label_encoder()\n",
    "\n",
    "fitted_e = {}\n",
    "\n",
    "columns = ['flag_own_realty',\n",
    "       'name_income_type', 'name_education_type',\n",
    "        'occupation_type']\n",
    "for col in columns:\n",
    "    fitted_e.update({col: f.fit(nn[col])})"
   ]
  },
  {
   "cell_type": "code",
   "execution_count": 50,
   "metadata": {},
   "outputs": [
    {
     "data": {
      "text/plain": [
       "{'flag_own_realty': custome_label_encoder(),\n",
       " 'name_income_type': custome_label_encoder(),\n",
       " 'name_education_type': custome_label_encoder(),\n",
       " 'occupation_type': custome_label_encoder()}"
      ]
     },
     "execution_count": 50,
     "metadata": {},
     "output_type": "execute_result"
    }
   ],
   "source": [
    "fitted_e"
   ]
  },
  {
   "cell_type": "code",
   "execution_count": 51,
   "metadata": {},
   "outputs": [
    {
     "name": "stdout",
     "output_type": "stream",
     "text": [
      "class not found\n",
      "class not found\n",
      "class not found\n"
     ]
    },
    {
     "name": "stderr",
     "output_type": "stream",
     "text": [
      "/var/folders/rt/_sv9t5px3yv5bth97z8py2mr0000gn/T/ipykernel_1418/3831180477.py:15: DeprecationWarning: elementwise comparison failed; this will raise an error in the future.\n",
      "  if classes not in self.classes_:\n"
     ]
    }
   ],
   "source": [
    "for col in fitted_e.keys():\n",
    "    null[col] = fitted_e[col].transform(null[col])\n",
    "    "
   ]
  },
  {
   "cell_type": "code",
   "execution_count": null,
   "metadata": {},
   "outputs": [],
   "source": [
    "class custome_label_encoder(LabelEncoder):\n",
    "    def __init__(self,handle_unkown = True, *args, **kwargs):\n",
    "        super().__init__(*args, **kwargs)\n",
    "        \n",
    "    def fit(self, y):\n",
    "        return super().fit(y)\n",
    "        \n",
    "    def handle_error(self):\n",
    "        pass\n",
    "    \n",
    "    def transform(self, y):\n",
    "        classes = y.unique()\n",
    "        if classes not in self.classes_:\n",
    "            print(\"class not found\")\n",
    "            \n",
    "f = custome_label_encoder()\n",
    "\n",
    "fitted_e = {}\n",
    "\n",
    "columns = ['flag_own_realty',\n",
    "       'name_income_type', 'name_education_type',\n",
    "        'occupation_type']\n",
    "for col in columns:\n",
    "    fitted_e.update({col: f.fit(nn[col])})"
   ]
  }
 ],
 "metadata": {
  "kernelspec": {
   "display_name": "credit",
   "language": "python",
   "name": "python3"
  },
  "language_info": {
   "codemirror_mode": {
    "name": "ipython",
    "version": 3
   },
   "file_extension": ".py",
   "mimetype": "text/x-python",
   "name": "python",
   "nbconvert_exporter": "python",
   "pygments_lexer": "ipython3",
   "version": "3.8.18"
  }
 },
 "nbformat": 4,
 "nbformat_minor": 2
}
